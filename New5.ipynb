{
  "nbformat": 4,
  "nbformat_minor": 0,
  "metadata": {
    "colab": {
      "name": "New5.ipynb",
      "private_outputs": true,
      "provenance": [],
      "collapsed_sections": [],
      "include_colab_link": true
    },
    "kernelspec": {
      "name": "python3",
      "display_name": "Python 3"
    },
    "language_info": {
      "name": "python"
    }
  },
  "cells": [
    {
      "cell_type": "markdown",
      "metadata": {
        "id": "view-in-github",
        "colab_type": "text"
      },
      "source": [
        "<a href=\"https://colab.research.google.com/github/definitelylexi/Complete-Python-3-Bootcamp/blob/master/New5.ipynb\" target=\"_parent\"><img src=\"https://colab.research.google.com/assets/colab-badge.svg\" alt=\"Open In Colab\"/></a>"
      ]
    },
    {
      "cell_type": "code",
      "metadata": {
        "id": "72Rt53cuqXrm"
      },
      "source": [
        "#Lexi comment \n",
        "first_greeting = 'hello world'\n",
        "print(first_greeting)"
      ],
      "execution_count": null,
      "outputs": []
    },
    {
      "cell_type": "code",
      "metadata": {
        "id": "sYkrn8S6s1Tp"
      },
      "source": [
        "#another sue"
      ],
      "execution_count": null,
      "outputs": []
    },
    {
      "cell_type": "code",
      "metadata": {
        "id": "WuP7iuaorBkY"
      },
      "source": [
        "#sue code play\n",
        "print(\"sue hello\");\n"
      ],
      "execution_count": null,
      "outputs": []
    },
    {
      "cell_type": "code",
      "metadata": {
        "id": "sv3_PfGSq8E9"
      },
      "source": [
        "#anastasiia's comment\n",
        "print('Hi')"
      ],
      "execution_count": null,
      "outputs": []
    }
  ]
}